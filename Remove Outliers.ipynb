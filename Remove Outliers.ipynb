{
 "cells": [
  {
   "cell_type": "markdown",
   "id": "71e3fdca",
   "metadata": {},
   "source": [
    "# Function to remove Outliers"
   ]
  },
  {
   "cell_type": "code",
   "execution_count": 1,
   "id": "3da3f169",
   "metadata": {},
   "outputs": [],
   "source": [
    "def remove_outliers(data):\n",
    "    mean = np.mean(data)\n",
    "    q1,q3=np.percentile(data,[25,75])\n",
    "    iqr=q3-q1\n",
    "    lower_fence = q1-1.5*iqr\n",
    "    upper_fence = q3+1.5*iqr\n",
    "    data_new = []\n",
    "    for i in data:\n",
    "        if i>lower_fence and i<upper_fence:\n",
    "            data_new.append(i)\n",
    "    return data_new"
   ]
  },
  {
   "cell_type": "markdown",
   "id": "17ea0377",
   "metadata": {},
   "source": [
    "# Example for explanation"
   ]
  },
  {
   "cell_type": "code",
   "execution_count": 2,
   "id": "7e99b125",
   "metadata": {},
   "outputs": [],
   "source": [
    "df = [1,2,3,4,5,6,7,89]"
   ]
  },
  {
   "cell_type": "code",
   "execution_count": 3,
   "id": "58164509",
   "metadata": {},
   "outputs": [
    {
     "data": {
      "application/javascript": [
       "\n",
       "        if (window._pyforest_update_imports_cell) { window._pyforest_update_imports_cell('import numpy as np'); }\n",
       "    "
      ],
      "text/plain": [
       "<IPython.core.display.Javascript object>"
      ]
     },
     "metadata": {},
     "output_type": "display_data"
    },
    {
     "data": {
      "application/javascript": [
       "\n",
       "        if (window._pyforest_update_imports_cell) { window._pyforest_update_imports_cell('import numpy as np'); }\n",
       "    "
      ],
      "text/plain": [
       "<IPython.core.display.Javascript object>"
      ]
     },
     "metadata": {},
     "output_type": "display_data"
    },
    {
     "data": {
      "text/plain": [
       "[1, 2, 3, 4, 5, 6, 7]"
      ]
     },
     "execution_count": 3,
     "metadata": {},
     "output_type": "execute_result"
    }
   ],
   "source": [
    "remove_outliers(df)"
   ]
  },
  {
   "cell_type": "markdown",
   "id": "893cf84d",
   "metadata": {},
   "source": [
    "### Basic Explanation\n",
    "Here the "
   ]
  }
 ],
 "metadata": {
  "kernelspec": {
   "display_name": "Python 3 (ipykernel)",
   "language": "python",
   "name": "python3"
  },
  "language_info": {
   "codemirror_mode": {
    "name": "ipython",
    "version": 3
   },
   "file_extension": ".py",
   "mimetype": "text/x-python",
   "name": "python",
   "nbconvert_exporter": "python",
   "pygments_lexer": "ipython3",
   "version": "3.9.12"
  }
 },
 "nbformat": 4,
 "nbformat_minor": 5
}
